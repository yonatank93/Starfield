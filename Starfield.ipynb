{
 "cells": [
  {
   "cell_type": "markdown",
   "metadata": {},
   "source": [
    "# Starfield"
   ]
  },
  {
   "cell_type": "code",
   "execution_count": 1,
   "metadata": {},
   "outputs": [
    {
     "name": "stdout",
     "output_type": "stream",
     "text": [
      "Collecting pygame\n",
      "  Using cached https://files.pythonhosted.org/packages/8e/24/ede6428359f913ed9cd1643dd5533aefeb5a2699cc95bea089de50ead586/pygame-1.9.6-cp36-cp36m-manylinux1_x86_64.whl\n",
      "Collecting numpy\n",
      "  Using cached https://files.pythonhosted.org/packages/00/16/476826a84d545424084499763248abbbdc73d065168efed9aa71cdf2a7dc/numpy-1.19.0-cp36-cp36m-manylinux1_x86_64.whl\n",
      "Installing collected packages: pygame, numpy\n",
      "Successfully installed numpy-1.19.0 pygame-1.9.6\n"
     ]
    }
   ],
   "source": [
    "!pip3 install pygame numpy --user"
   ]
  },
  {
   "cell_type": "code",
   "execution_count": 2,
   "metadata": {},
   "outputs": [
    {
     "name": "stdout",
     "output_type": "stream",
     "text": [
      "pygame 1.9.6\n",
      "Hello from the pygame community. https://www.pygame.org/contribute.html\n"
     ]
    }
   ],
   "source": [
    "import pygame\n",
    "import numpy as np\n",
    "import time, copy"
   ]
  },
  {
   "cell_type": "code",
   "execution_count": 8,
   "metadata": {},
   "outputs": [],
   "source": [
    "class Star:\n",
    "       \n",
    "    def __init__(self, width:int, height:int, nstars:int, speed:float):\n",
    "        \"\"\"\n",
    "        x goes from 0-width\n",
    "        y goes from 0-width\n",
    "        z goes from 0-width/2, it encodes depth data\n",
    "        r goes from 0-16, it tells the size of circle from z value\n",
    "        \"\"\"\n",
    "        self.width = width\n",
    "        self.height = height\n",
    "        self.nstars = nstars\n",
    "        self.speed = speed\n",
    "        \n",
    "        # Create space\n",
    "        pygame.init()\n",
    "        self.space = pygame.display.set_mode((width, height))\n",
    "        \n",
    "        # Color data\n",
    "        self.white = (255, 255, 255) #To draw stars\n",
    "        self.black = (0, 0, 0) #To delete stars\n",
    "        \n",
    "        # Stars data\n",
    "        self.x = np.random.randint(0, self.width, nstars)\n",
    "        self.y = np.random.randint(0, self.height, nstars)\n",
    "        self.z = np.random.randint(0, int(self.width/2), nstars)\n",
    "        \n",
    "        # Set px, py, pz to zeros\n",
    "        self.px = np.zeros(nstars).astype(int)\n",
    "        self.py = np.zeros(nstars).astype(int)\n",
    "        self.pz = np.zeros(nstars).astype(int)\n",
    "        \n",
    "    def draw_stars(self):\n",
    "        # Delete previous positions\n",
    "        pr = (self.pz/(int(self.width/2)) * 4).astype(int)\n",
    "        for xx, yy, rr in zip(self.px, self.py, pr):\n",
    "            pygame.draw.circle(self.space, self.black, (xx, yy), rr)\n",
    "\n",
    "        # Draw current positions\n",
    "        r = (self.z/(int(self.width/2)) * 4).astype(int)\n",
    "        for xx, yy, rr in zip(self.x, self.y, r):\n",
    "            pygame.draw.circle(self.space, self.white, (xx, yy), rr)\n",
    "        \n",
    "    def update(self):\n",
    "        \"\"\" Stars move radially outward from the center.\n",
    "        So we need to shift the coord (0, 0) to the center.\n",
    "        \"\"\"\n",
    "        # Save previous data\n",
    "        self.px = copy.copy(self.x)\n",
    "        self.py = copy.copy(self.y)\n",
    "        self.pz = copy.copy(self.z)\n",
    "        \n",
    "        # Update stars' positions\n",
    "        angle = self.get_angle(self.x-self.width/2, self.y-self.height/2)\n",
    "        self.x = (self.x + self.speed*np.cos(angle)).astype(int)\n",
    "        self.y = (self.y + self.speed*np.sin(angle)).astype(int)\n",
    "        self.z += self.speed\n",
    "        \n",
    "        self.replace_stars()\n",
    "            \n",
    "    def show(self):\n",
    "        time.sleep(1/self.speed)\n",
    "        pygame.display.update()\n",
    "        \n",
    "    @staticmethod\n",
    "    def get_angle(xsh, ysh):\n",
    "        return np.angle(xsh+ysh*1j)\n",
    "    \n",
    "    def replace_stars(self):        \n",
    "        # Get stars out of frame\n",
    "        idxx1 = np.where(self.x<=0)[0]\n",
    "        idxx2 = np.where(self.x>=self.width)[0]\n",
    "        idxy1 = np.where(self.y<=0)[0]\n",
    "        idxy2 = np.where(self.y>=self.height)[0]\n",
    "        idx = np.unique(np.concatenate((idxx1, idxx2, idxy1, idxy2)))\n",
    "                \n",
    "        self.x[idx] = np.random.randint(0, self.width, len(idx))\n",
    "        self.y[idx] = np.random.randint(0, self.height, len(idx))\n",
    "        self.z[idx] = np.random.randint(0, int(self.width/2), len(idx))\n",
    "        \n",
    "    def run(self, duration:float=60):\n",
    "        start = time.perf_counter()\n",
    "        tdiff = 0\n",
    "        while tdiff<duration:\n",
    "            mystars.draw_stars()\n",
    "            mystars.show()\n",
    "            mystars.update()\n",
    "            tdiff = time.perf_counter() - start\n",
    "            "
   ]
  },
  {
   "cell_type": "code",
   "execution_count": 13,
   "metadata": {},
   "outputs": [
    {
     "ename": "KeyboardInterrupt",
     "evalue": "",
     "output_type": "error",
     "traceback": [
      "\u001b[0;31m---------------------------------------------------------------------------\u001b[0m",
      "\u001b[0;31mKeyboardInterrupt\u001b[0m                         Traceback (most recent call last)",
      "\u001b[0;32m<ipython-input-13-9adb663dd3dc>\u001b[0m in \u001b[0;36m<module>\u001b[0;34m\u001b[0m\n\u001b[1;32m      1\u001b[0m \u001b[0mmystars\u001b[0m \u001b[0;34m=\u001b[0m \u001b[0mStar\u001b[0m\u001b[0;34m(\u001b[0m\u001b[0;36m1920\u001b[0m\u001b[0;34m,\u001b[0m \u001b[0;36m1080\u001b[0m\u001b[0;34m,\u001b[0m \u001b[0;36m50\u001b[0m\u001b[0;34m,\u001b[0m \u001b[0;36m30\u001b[0m\u001b[0;34m)\u001b[0m\u001b[0;34m\u001b[0m\u001b[0;34m\u001b[0m\u001b[0m\n\u001b[0;32m----> 2\u001b[0;31m \u001b[0mmystars\u001b[0m\u001b[0;34m.\u001b[0m\u001b[0mrun\u001b[0m\u001b[0;34m(\u001b[0m\u001b[0;34m)\u001b[0m\u001b[0;34m\u001b[0m\u001b[0;34m\u001b[0m\u001b[0m\n\u001b[0m",
      "\u001b[0;32m<ipython-input-8-0135aadf54d8>\u001b[0m in \u001b[0;36mrun\u001b[0;34m(self, duration)\u001b[0m\n\u001b[1;32m     89\u001b[0m         \u001b[0;32mwhile\u001b[0m \u001b[0mtdiff\u001b[0m\u001b[0;34m<\u001b[0m\u001b[0mduration\u001b[0m\u001b[0;34m:\u001b[0m\u001b[0;34m\u001b[0m\u001b[0;34m\u001b[0m\u001b[0m\n\u001b[1;32m     90\u001b[0m             \u001b[0mmystars\u001b[0m\u001b[0;34m.\u001b[0m\u001b[0mdraw_stars\u001b[0m\u001b[0;34m(\u001b[0m\u001b[0;34m)\u001b[0m\u001b[0;34m\u001b[0m\u001b[0;34m\u001b[0m\u001b[0m\n\u001b[0;32m---> 91\u001b[0;31m             \u001b[0mmystars\u001b[0m\u001b[0;34m.\u001b[0m\u001b[0mshow\u001b[0m\u001b[0;34m(\u001b[0m\u001b[0;34m)\u001b[0m\u001b[0;34m\u001b[0m\u001b[0;34m\u001b[0m\u001b[0m\n\u001b[0m\u001b[1;32m     92\u001b[0m             \u001b[0mmystars\u001b[0m\u001b[0;34m.\u001b[0m\u001b[0mupdate\u001b[0m\u001b[0;34m(\u001b[0m\u001b[0;34m)\u001b[0m\u001b[0;34m\u001b[0m\u001b[0;34m\u001b[0m\u001b[0m\n\u001b[1;32m     93\u001b[0m             \u001b[0mtdiff\u001b[0m \u001b[0;34m=\u001b[0m \u001b[0mtime\u001b[0m\u001b[0;34m.\u001b[0m\u001b[0mperf_counter\u001b[0m\u001b[0;34m(\u001b[0m\u001b[0;34m)\u001b[0m \u001b[0;34m-\u001b[0m \u001b[0mstart\u001b[0m\u001b[0;34m\u001b[0m\u001b[0;34m\u001b[0m\u001b[0m\n",
      "\u001b[0;32m<ipython-input-8-0135aadf54d8>\u001b[0m in \u001b[0;36mshow\u001b[0;34m(self)\u001b[0m\n\u001b[1;32m     66\u001b[0m     \u001b[0;32mdef\u001b[0m \u001b[0mshow\u001b[0m\u001b[0;34m(\u001b[0m\u001b[0mself\u001b[0m\u001b[0;34m)\u001b[0m\u001b[0;34m:\u001b[0m\u001b[0;34m\u001b[0m\u001b[0;34m\u001b[0m\u001b[0m\n\u001b[1;32m     67\u001b[0m         \u001b[0mtime\u001b[0m\u001b[0;34m.\u001b[0m\u001b[0msleep\u001b[0m\u001b[0;34m(\u001b[0m\u001b[0;36m1\u001b[0m\u001b[0;34m/\u001b[0m\u001b[0mself\u001b[0m\u001b[0;34m.\u001b[0m\u001b[0mspeed\u001b[0m\u001b[0;34m)\u001b[0m\u001b[0;34m\u001b[0m\u001b[0;34m\u001b[0m\u001b[0m\n\u001b[0;32m---> 68\u001b[0;31m         \u001b[0mpygame\u001b[0m\u001b[0;34m.\u001b[0m\u001b[0mdisplay\u001b[0m\u001b[0;34m.\u001b[0m\u001b[0mupdate\u001b[0m\u001b[0;34m(\u001b[0m\u001b[0;34m)\u001b[0m\u001b[0;34m\u001b[0m\u001b[0;34m\u001b[0m\u001b[0m\n\u001b[0m\u001b[1;32m     69\u001b[0m \u001b[0;34m\u001b[0m\u001b[0m\n\u001b[1;32m     70\u001b[0m     \u001b[0;34m@\u001b[0m\u001b[0mstaticmethod\u001b[0m\u001b[0;34m\u001b[0m\u001b[0;34m\u001b[0m\u001b[0m\n",
      "\u001b[0;31mKeyboardInterrupt\u001b[0m: "
     ]
    }
   ],
   "source": [
    "mystars = Star(1920, 1080, 50, 30)\n",
    "mystars.run()"
   ]
  },
  {
   "cell_type": "code",
   "execution_count": null,
   "metadata": {},
   "outputs": [],
   "source": []
  }
 ],
 "metadata": {
  "kernelspec": {
   "display_name": "Python 3",
   "language": "python",
   "name": "python3"
  },
  "language_info": {
   "codemirror_mode": {
    "name": "ipython",
    "version": 3
   },
   "file_extension": ".py",
   "mimetype": "text/x-python",
   "name": "python",
   "nbconvert_exporter": "python",
   "pygments_lexer": "ipython3",
   "version": "3.6.9"
  }
 },
 "nbformat": 4,
 "nbformat_minor": 4
}
